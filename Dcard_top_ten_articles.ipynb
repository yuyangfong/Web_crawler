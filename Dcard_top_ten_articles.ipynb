{
 "cells": [
  {
   "cell_type": "code",
   "execution_count": 17,
   "metadata": {
    "collapsed": true
   },
   "outputs": [],
   "source": [
    "import requests\n",
    "import bs4"
   ]
  },
  {
   "cell_type": "code",
   "execution_count": 18,
   "metadata": {
    "collapsed": true
   },
   "outputs": [],
   "source": [
    "# Dcard網址\n",
    "url = 'https://www.dcard.tw/f'\n",
    "resp = requests.get(url)"
   ]
  },
  {
   "cell_type": "code",
   "execution_count": 19,
   "metadata": {},
   "outputs": [
    {
     "name": "stdout",
     "output_type": "stream",
     "text": [
      "Dcard網頁狀態碼: 200\n"
     ]
    }
   ],
   "source": [
    "# 取得網頁狀態碼，200>正常；404>找不到網頁\n",
    "print('Dcard網頁狀態碼:', resp.status_code)"
   ]
  },
  {
   "cell_type": "code",
   "execution_count": 20,
   "metadata": {},
   "outputs": [],
   "source": [
    "# 使用 beautifulsoup4 解析來自 requests的url 的文檔，並使用 html.parser 解析器傳出結果\n",
    "soup = BeautifulSoup(resp.text, 'html.parser')"
   ]
  },
  {
   "cell_type": "code",
   "execution_count": 21,
   "metadata": {
    "collapsed": true
   },
   "outputs": [],
   "source": [
    "# 文章title的name = h3\n",
    "dcard_title = soup.find_all('h3', re.compile('PostEntry_title_'))"
   ]
  },
  {
   "cell_type": "code",
   "execution_count": 22,
   "metadata": {},
   "outputs": [
    {
     "name": "stdout",
     "output_type": "stream",
     "text": [
      "Dcard 熱門前十文章標題：\n",
      " 1. 明明有買票卻不能坐\n",
      " 2. 感謝哥哥讓我們認識彼此\n",
      " 3. 媽媽不要我們了\n",
      " 4. 一位成人片演員的死：網路霸凌\n",
      " 5. 被公車司機救了一命。\n",
      " 6. 球經存在的意義\n",
      " 7. #微雷 #黑特綜藝玩很大ㄚ頭\n",
      " 8. #微更 年紀越長瀏海越開 #多圖 #陸劇 致我們單純的小美好 #微雷\n",
      " 9. 想賴帳？\n",
      "10. 還在將就電腦豬隊友？衝一波Acer資訊月狂HIGH派對！CP值爆表神筆電讓你年末不邊緣！\n"
     ]
    }
   ],
   "source": [
    "# 印出標題\n",
    "print('Dcard 熱門前十文章標題：')\n",
    "for index, item in enumerate(dcard_title[:10]):\n",
    "    print(\"{0:2d}. {1}\".format(index + 1, item.text.strip()))"
   ]
  }
 ],
 "metadata": {
  "kernelspec": {
   "display_name": "Python 3",
   "language": "python",
   "name": "python3"
  },
  "language_info": {
   "codemirror_mode": {
    "name": "ipython",
    "version": 3
   },
   "file_extension": ".py",
   "mimetype": "text/x-python",
   "name": "python",
   "nbconvert_exporter": "python",
   "pygments_lexer": "ipython3",
   "version": "3.6.3"
  }
 },
 "nbformat": 4,
 "nbformat_minor": 2
}
