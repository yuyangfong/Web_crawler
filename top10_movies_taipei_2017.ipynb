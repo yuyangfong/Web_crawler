{
 "cells": [
  {
   "cell_type": "code",
   "execution_count": 1,
   "metadata": {
    "collapsed": true
   },
   "outputs": [],
   "source": [
    "import requests, pandas as pd, urllib.parse, sqlite3\n",
    "from bs4 import BeautifulSoup\n",
    "from pandas.io import sql"
   ]
  },
  {
   "cell_type": "code",
   "execution_count": 2,
   "metadata": {},
   "outputs": [],
   "source": [
    "def main():\n",
    "    resp = requests.get(url, verify=False)\n",
    "    resp.encoding = 'utf-8'\n",
    "    soup = BeautifulSoup(resp.text, 'lxml')\n",
    "    rank = [rank.text for rank in soup.find_all('td', class_=['list-r8', 'o-n'])]\n",
    "    movie = [movie.text for movie in soup.find_all('td', class_='list-r1')]\n",
    "    box_office =[box_office.text.replace(',', '') for box_office in soup.find_all('td', class_=['import', 'list-r7'])]\n",
    "    movie_ranking_df = pd.DataFrame({'rank': rank, \n",
    "                                     'movie': movie, \n",
    "                                     'box_office': box_office},\n",
    "                                      columns = ['rank', 'movie', 'box_office'])\n",
    "    return movie_ranking_df"
   ]
  },
  {
   "cell_type": "code",
   "execution_count": 3,
   "metadata": {},
   "outputs": [],
   "source": [
    "if __name__ == '__main__':\n",
    "    url = 'http://www.taipeibo.com/year/2017'\n",
    "    movie_ranking_2017 = main()\n",
    "    movie_ranking_2017.to_csv('movie_ranking_2017.csv', index=False)\n",
    "    movie_ranking = pd.read_csv('movie_ranking_2017.csv', encoding='cp950')"
   ]
  },
  {
   "cell_type": "code",
   "execution_count": 4,
   "metadata": {},
   "outputs": [],
   "source": [
    "# 結果存到sqlite\n",
    "conn = sqlite3.connect('movie.db')\n",
    "cur = conn.cursor()\n",
    "movie_ranking.to_sql(\"movie_ranking_2017\", conn, flavor='sqlite', if_exists='append')\n",
    "cur.close()\n",
    "conn.close()"
   ]
  },
  {
   "cell_type": "code",
   "execution_count": 5,
   "metadata": {},
   "outputs": [
    {
     "data": {
      "text/plain": [
       "[(0, 1, '玩命關頭8', 183540980),\n",
       " (1, 2, '金牌特務：機密對決', 126465580),\n",
       " (2, 3, '神力女超人', 125256645),\n",
       " (3, 4, '與神同行', 123459732),\n",
       " (4, 5, '雷神索爾3：諸神黃昏', 110020593),\n",
       " (5, 6, '蜘蛛人：返校日', 104941823),\n",
       " (6, 7, '神鬼傳奇', 93590599),\n",
       " (7, 8, '美女與野獸', 91085766),\n",
       " (8, 9, '正義聯盟', 88734502),\n",
       " (9, 10, '羅根', 85902807),\n",
       " (0, 1, '玩命關頭8', 183540980),\n",
       " (1, 2, '金牌特務：機密對決', 126465580),\n",
       " (2, 3, '神力女超人', 125256645),\n",
       " (3, 4, '與神同行', 123459732),\n",
       " (4, 5, '雷神索爾3：諸神黃昏', 110020593),\n",
       " (5, 6, '蜘蛛人：返校日', 104941823),\n",
       " (6, 7, '神鬼傳奇', 93590599),\n",
       " (7, 8, '美女與野獸', 91085766),\n",
       " (8, 9, '正義聯盟', 88734502),\n",
       " (9, 10, '羅根', 85902807)]"
      ]
     },
     "execution_count": 5,
     "metadata": {},
     "output_type": "execute_result"
    }
   ],
   "source": [
    "# 查詢SQL資料庫\n",
    "conn = sqlite3.connect('movie.db')\n",
    "cur = conn.cursor()\n",
    "cur.execute('select * from movie_ranking_2017 where rank <= 10')\n",
    "values = cur.fetchall()\n",
    "values\n",
    "# cur.close()\n",
    "# conn.close()"
   ]
  }
 ],
 "metadata": {
  "kernelspec": {
   "display_name": "Python 3",
   "language": "python",
   "name": "python3"
  },
  "language_info": {
   "codemirror_mode": {
    "name": "ipython",
    "version": 3
   },
   "file_extension": ".py",
   "mimetype": "text/x-python",
   "name": "python",
   "nbconvert_exporter": "python",
   "pygments_lexer": "ipython3",
   "version": "3.6.3"
  }
 },
 "nbformat": 4,
 "nbformat_minor": 2
}
