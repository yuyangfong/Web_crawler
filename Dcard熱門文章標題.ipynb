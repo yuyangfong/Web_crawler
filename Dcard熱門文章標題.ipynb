{
 "cells": [
  {
   "cell_type": "code",
   "execution_count": 7,
   "metadata": {
    "collapsed": true
   },
   "outputs": [],
   "source": [
    "# 引入函式庫\n",
    "import requests\n",
    "import bs4"
   ]
  },
  {
   "cell_type": "code",
   "execution_count": 8,
   "metadata": {
    "collapsed": true
   },
   "outputs": [],
   "source": [
    "url = 'https://www.dcard.tw/f'\n",
    "resp = requests.get(url)"
   ]
  },
  {
   "cell_type": "code",
   "execution_count": 9,
   "metadata": {},
   "outputs": [
    {
     "data": {
      "text/plain": [
       "200"
      ]
     },
     "execution_count": 9,
     "metadata": {},
     "output_type": "execute_result"
    }
   ],
   "source": [
    "# 取得網頁狀態碼，200>正常；404>找不到網頁\n",
    "resp.status_code"
   ]
  },
  {
   "cell_type": "code",
   "execution_count": 13,
   "metadata": {},
   "outputs": [
    {
     "name": "stdout",
     "output_type": "stream",
     "text": [
      "Dcard 熱門前十文章：\n",
      " 1. 明明有買票卻不能坐\n",
      " 2. 感謝哥哥讓我們認識彼此\n",
      " 3. 媽媽不要我們了\n",
      " 4. 一位成人片演員的死：網路霸凌\n",
      " 5. 被公車司機救了一命。\n",
      " 6. 球經存在的意義\n",
      " 7. #微雷 #黑特綜藝玩很大ㄚ頭\n",
      " 8. #微更 年紀越長瀏海越開 #多圖 #陸劇 致我們單純的小美好 #微雷\n",
      " 9. 麥當勞店員的堅持\n",
      "10. 還在將就電腦豬隊友？衝一波Acer資訊月狂HIGH派對！CP值爆表神筆電讓你年末不邊緣！\n"
     ]
    }
   ],
   "source": [
    "soup = BeautifulSoup(resp.text, 'html.parser')\n",
    "dcard_title = soup.find_all('h3')\n",
    "print('Dcard 熱門前十文章：')\n",
    "for index, item in enumerate(dcard_title[:10]):\n",
    "    print(\"{0:2d}. {1}\".format(index + 1, item.text.strip()))"
   ]
  }
 ],
 "metadata": {
  "kernelspec": {
   "display_name": "Python 3",
   "language": "python",
   "name": "python3"
  },
  "language_info": {
   "codemirror_mode": {
    "name": "ipython",
    "version": 3
   },
   "file_extension": ".py",
   "mimetype": "text/x-python",
   "name": "python",
   "nbconvert_exporter": "python",
   "pygments_lexer": "ipython3",
   "version": "3.6.3"
  }
 },
 "nbformat": 4,
 "nbformat_minor": 2
}
