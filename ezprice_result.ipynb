{
 "cells": [
  {
   "cell_type": "code",
   "execution_count": 1,
   "metadata": {},
   "outputs": [],
   "source": [
    "# 載入套件\n",
    "import requests\n",
    "from bs4 import BeautifulSoup\n",
    "import urllib.parse\n",
    "import csv"
   ]
  },
  {
   "cell_type": "code",
   "execution_count": 2,
   "metadata": {},
   "outputs": [
    {
     "name": "stdout",
     "output_type": "stream",
     "text": [
      "輸入商品：任天堂 switch\n",
      "輸入商品(url_form)：%E4%BB%BB%E5%A4%A9%E5%A0%82%20switch\n"
     ]
    },
    {
     "name": "stdout",
     "output_type": "stream",
     "text": [
      "共 14 項商品\n",
      "['【任天堂 nintendo】switch 1-2-Switch', '1,490', 'udn買東西']\n",
      "['NS 任天堂 Nintendo Switch 1-2-Switch', '1,490', 'friDay購物']\n",
      "['任天堂 Nintendo Switch 1-2-Switch(HAC-P-AACCA(CHT))', '1,490', '燦坤']\n",
      "['【任天堂 nintendo】switch 寶可拳', '1,790', 'udn買東西']\n",
      "['任天堂 Nintendo Switch Pro控制器', '2,050', 'friDay購物']\n",
      "['任天堂 Nintendo Switch 專用 SanDisk microSDXC 64GB 記憶卡', '1,880', 'myfone購物']\n",
      "['SanDisk 任天堂 Nintendo SWITCH 專用 microSDXC 64GB 記憶卡', '1,880', 'friDay購物']\n",
      "['Nintendo 任天堂 NS 1-2-Switch 日文版', '1,590', 'isunfar愛順發3C購物網']\n",
      "['SanDisk 任天堂 Nintendo SWITCH 專用 microSDXC 128GB 記憶卡', '3,680', 'friDay購物']\n",
      "['任天堂Nintendo Switch-灰 Joy-Con', '9,780', 'Yahoo奇摩購物中心']\n",
      "['NS 任天堂 Nintendo Switch 地產大亨 日文版 Monopoly for Nintendo Switch', '1,490', '博客來']\n",
      "['【Nintendo 任天堂】NS Switch 地產大亨 Monopoly for Nintendo Switch(日文版)', '1,390', 'momo富邦購物館']\n",
      "['【Nintendo 任天堂】NS Switch 1-2-Switch(日文版)', '1,390', 'momo富邦購物館']\n",
      "['任天堂Nintendo Switch-電光藍/紅 Joy-Con', '9,780', 'Yahoo奇摩購物中心']\n"
     ]
    }
   ],
   "source": [
    "query = str(input('輸入商品：'))\n",
    "# 把關鍵字變成url的格式(ASCII)\n",
    "q = urllib.parse.quote(query)\n",
    "print('query url: {}'.format(q))\n",
    "# e.g. https://ezprice.com.tw/s/nitendo%20switch/price/\n",
    "\n",
    "page = requests.get('https://ezprice.com.tw/s/' + q + '/price/', verify=False).text\n",
    "soup = BeautifulSoup(page, 'lxml')\n",
    "items = list()\n",
    "\n",
    "for div in soup.find_all('div', class_='search-rst clearfix'):\n",
    "    item = list()\n",
    "    item.append(div.h3.a['title'])\n",
    "    item.append(div.find('span', class_='num').text)\n",
    "    if div.find('span', 'platform-name'):\n",
    "        item.append(div.find('span', 'platform-name').text.strip())\n",
    "    else:\n",
    "        item.append('無')\n",
    "    items.append(item)\n",
    "print('共 %d 項商品' % (len(items)))\n",
    "\n",
    "for item in items:\n",
    "    print(item)"
   ]
  },
  {
   "cell_type": "code",
   "execution_count": 3,
   "metadata": {
    "collapsed": true
   },
   "outputs": [],
   "source": [
    "# 搜尋結果輸出成csv檔\n",
    "#linux, mac encoding='utf-8', windows 'cp950'\n",
    "with open('ezprice_result.csv', 'w', encoding='cp950', newline='') as f:\n",
    "    writer = csv.writer(f)\n",
    "    writer.writerow(('商品', '價格', '店家'))\n",
    "    for item in items:\n",
    "        writer.writerow([column for column in item])"
   ]
  },
  {
   "cell_type": "code",
   "execution_count": 4,
   "metadata": {},
   "outputs": [
    {
     "name": "stdout",
     "output_type": "stream",
     "text": [
      "讀取 csv 檔\n",
      "【任天堂 nintendo】switch 1-2-Switch 1,490 udn買東西\n",
      "NS 任天堂 Nintendo Switch 1-2-Switch 1,490 friDay購物\n",
      "任天堂 Nintendo Switch 1-2-Switch(HAC-P-AACCA(CHT)) 1,490 燦坤\n",
      "【任天堂 nintendo】switch 寶可拳 1,790 udn買東西\n",
      "任天堂 Nintendo Switch Pro控制器 2,050 friDay購物\n",
      "任天堂 Nintendo Switch 專用 SanDisk microSDXC 64GB 記憶卡 1,880 myfone購物\n",
      "SanDisk 任天堂 Nintendo SWITCH 專用 microSDXC 64GB 記憶卡 1,880 friDay購物\n",
      "Nintendo 任天堂 NS 1-2-Switch 日文版 1,590 isunfar愛順發3C購物網\n",
      "SanDisk 任天堂 Nintendo SWITCH 專用 microSDXC 128GB 記憶卡 3,680 friDay購物\n",
      "任天堂Nintendo Switch-灰 Joy-Con 9,780 Yahoo奇摩購物中心\n",
      "NS 任天堂 Nintendo Switch 地產大亨 日文版 Monopoly for Nintendo Switch 1,490 博客來\n",
      "【Nintendo 任天堂】NS Switch 地產大亨 Monopoly for Nintendo Switch(日文版) 1,390 momo富邦購物館\n",
      "【Nintendo 任天堂】NS Switch 1-2-Switch(日文版) 1,390 momo富邦購物館\n",
      "任天堂Nintendo Switch-電光藍/紅 Joy-Con 9,780 Yahoo奇摩購物中心\n"
     ]
    }
   ],
   "source": [
    "# 讀取輸出的csv檔\n",
    "print('讀取 csv 檔')\n",
    "with open('ezprice_result.csv', 'r', encoding='cp950') as f:\n",
    "    reader = csv.DictReader(f)\n",
    "    for row in reader:\n",
    "        print(row['商品'], row['價格'], row['店家'])"
   ]
  }
 ],
 "metadata": {
  "kernelspec": {
   "display_name": "Python 3",
   "language": "python",
   "name": "python3"
  },
  "language_info": {
   "codemirror_mode": {
    "name": "ipython",
    "version": 3
   },
   "file_extension": ".py",
   "mimetype": "text/x-python",
   "name": "python",
   "nbconvert_exporter": "python",
   "pygments_lexer": "ipython3",
   "version": "3.6.3"
  }
 },
 "nbformat": 4,
 "nbformat_minor": 2
}
